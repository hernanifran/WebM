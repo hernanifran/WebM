{
 "cells": [
  {
   "cell_type": "code",
   "execution_count": 13,
   "metadata": {},
   "outputs": [],
   "source": [
    "from selenium import webdriver\n",
    "from bs4 import BeautifulSoup\n",
    "from selenium.webdriver.common.by import By\n",
    "import requests\n",
    "from lxml import etree"
   ]
  },
  {
   "cell_type": "code",
   "execution_count": 14,
   "metadata": {},
   "outputs": [],
   "source": [
    "# URL de MercadoLibre para la primera página\n",
    "url = f'https://www.farmacity.com/Farmacity/promociones'"
   ]
  },
  {
   "cell_type": "code",
   "execution_count": 15,
   "metadata": {},
   "outputs": [],
   "source": [
    "# Configurar el WebDriver (descargar el controlador adecuado para tu navegador)\n",
    "driver = webdriver.Chrome()\n",
    "\n",
    "# Realizar la solicitud HTTP con Selenium\n",
    "driver.get(url)\n",
    "\n",
    "# Esperar a que la página cargue completamente (puedes ajustar el tiempo según sea necesario)\n",
    "driver.implicitly_wait(10)"
   ]
  },
  {
   "cell_type": "code",
   "execution_count": 17,
   "metadata": {},
   "outputs": [
    {
     "ename": "NoSuchWindowException",
     "evalue": "Message: no such window: target window already closed\nfrom unknown error: web view not found\n  (Session info: chrome=122.0.6261.129)\nStacktrace:\n\tGetHandleVerifier [0x00007FF7F5E5AD02+56930]\n\t(No symbol) [0x00007FF7F5DCF602]\n\t(No symbol) [0x00007FF7F5C842E5]\n\t(No symbol) [0x00007FF7F5C61D4C]\n\t(No symbol) [0x00007FF7F5CF23F7]\n\t(No symbol) [0x00007FF7F5D07891]\n\t(No symbol) [0x00007FF7F5CEBA43]\n\t(No symbol) [0x00007FF7F5CBD438]\n\t(No symbol) [0x00007FF7F5CBE4D1]\n\tGetHandleVerifier [0x00007FF7F61D6F8D+3711213]\n\tGetHandleVerifier [0x00007FF7F62304CD+4077101]\n\tGetHandleVerifier [0x00007FF7F622865F+4044735]\n\tGetHandleVerifier [0x00007FF7F5EF9736+706710]\n\t(No symbol) [0x00007FF7F5DDB8DF]\n\t(No symbol) [0x00007FF7F5DD6AC4]\n\t(No symbol) [0x00007FF7F5DD6C1C]\n\t(No symbol) [0x00007FF7F5DC68D4]\n\tBaseThreadInitThunk [0x00007FFFFA4D257D+29]\n\tRtlUserThreadStart [0x00007FFFFB4CAA58+40]\n",
     "output_type": "error",
     "traceback": [
      "\u001b[1;31m---------------------------------------------------------------------------\u001b[0m",
      "\u001b[1;31mNoSuchWindowException\u001b[0m                     Traceback (most recent call last)",
      "\u001b[1;32mc:\\Users\\Josvaldes\\Documents\\Maestria\\Austral\\2ano\\webMining\\proyecto\\WebM\\prueba2.ipynb Cell 4\u001b[0m line \u001b[0;36m2\n\u001b[0;32m      <a href='vscode-notebook-cell:/c%3A/Users/Josvaldes/Documents/Maestria/Austral/2ano/webMining/proyecto/WebM/prueba2.ipynb#W3sZmlsZQ%3D%3D?line=0'>1</a>\u001b[0m \u001b[39m# Buscar el elemento <label> con la clase y texto específicos (MÁS VENDIDO)\u001b[39;00m\n\u001b[1;32m----> <a href='vscode-notebook-cell:/c%3A/Users/Josvaldes/Documents/Maestria/Austral/2ano/webMining/proyecto/WebM/prueba2.ipynb#W3sZmlsZQ%3D%3D?line=1'>2</a>\u001b[0m promocion_2x1_label \u001b[39m=\u001b[39m driver\u001b[39m.\u001b[39;49mfind_element(By\u001b[39m.\u001b[39;49mXPATH, \u001b[39m'\u001b[39;49m\u001b[39m//label[@class=\u001b[39;49m\u001b[39m\"\u001b[39;49m\u001b[39mlh-copy vtex-rich-text-0-x-paragraph vtex-rich-text-0-x-paragraph--modular-tabs-slider-tab\u001b[39;49m\u001b[39m\"\u001b[39;49m\u001b[39m]\u001b[39;49m\u001b[39m'\u001b[39;49m)\u001b[39m#and text()=\"2x1\"\u001b[39;00m\n",
      "File \u001b[1;32mc:\\Users\\Josvaldes\\AppData\\Local\\Programs\\Python\\Python311\\Lib\\site-packages\\selenium\\webdriver\\remote\\webdriver.py:741\u001b[0m, in \u001b[0;36mWebDriver.find_element\u001b[1;34m(self, by, value)\u001b[0m\n\u001b[0;32m    738\u001b[0m     by \u001b[39m=\u001b[39m By\u001b[39m.\u001b[39mCSS_SELECTOR\n\u001b[0;32m    739\u001b[0m     value \u001b[39m=\u001b[39m \u001b[39mf\u001b[39m\u001b[39m'\u001b[39m\u001b[39m[name=\u001b[39m\u001b[39m\"\u001b[39m\u001b[39m{\u001b[39;00mvalue\u001b[39m}\u001b[39;00m\u001b[39m\"\u001b[39m\u001b[39m]\u001b[39m\u001b[39m'\u001b[39m\n\u001b[1;32m--> 741\u001b[0m \u001b[39mreturn\u001b[39;00m \u001b[39mself\u001b[39;49m\u001b[39m.\u001b[39;49mexecute(Command\u001b[39m.\u001b[39;49mFIND_ELEMENT, {\u001b[39m\"\u001b[39;49m\u001b[39musing\u001b[39;49m\u001b[39m\"\u001b[39;49m: by, \u001b[39m\"\u001b[39;49m\u001b[39mvalue\u001b[39;49m\u001b[39m\"\u001b[39;49m: value})[\u001b[39m\"\u001b[39m\u001b[39mvalue\u001b[39m\u001b[39m\"\u001b[39m]\n",
      "File \u001b[1;32mc:\\Users\\Josvaldes\\AppData\\Local\\Programs\\Python\\Python311\\Lib\\site-packages\\selenium\\webdriver\\remote\\webdriver.py:347\u001b[0m, in \u001b[0;36mWebDriver.execute\u001b[1;34m(self, driver_command, params)\u001b[0m\n\u001b[0;32m    345\u001b[0m response \u001b[39m=\u001b[39m \u001b[39mself\u001b[39m\u001b[39m.\u001b[39mcommand_executor\u001b[39m.\u001b[39mexecute(driver_command, params)\n\u001b[0;32m    346\u001b[0m \u001b[39mif\u001b[39;00m response:\n\u001b[1;32m--> 347\u001b[0m     \u001b[39mself\u001b[39;49m\u001b[39m.\u001b[39;49merror_handler\u001b[39m.\u001b[39;49mcheck_response(response)\n\u001b[0;32m    348\u001b[0m     response[\u001b[39m\"\u001b[39m\u001b[39mvalue\u001b[39m\u001b[39m\"\u001b[39m] \u001b[39m=\u001b[39m \u001b[39mself\u001b[39m\u001b[39m.\u001b[39m_unwrap_value(response\u001b[39m.\u001b[39mget(\u001b[39m\"\u001b[39m\u001b[39mvalue\u001b[39m\u001b[39m\"\u001b[39m, \u001b[39mNone\u001b[39;00m))\n\u001b[0;32m    349\u001b[0m     \u001b[39mreturn\u001b[39;00m response\n",
      "File \u001b[1;32mc:\\Users\\Josvaldes\\AppData\\Local\\Programs\\Python\\Python311\\Lib\\site-packages\\selenium\\webdriver\\remote\\errorhandler.py:229\u001b[0m, in \u001b[0;36mErrorHandler.check_response\u001b[1;34m(self, response)\u001b[0m\n\u001b[0;32m    227\u001b[0m         alert_text \u001b[39m=\u001b[39m value[\u001b[39m\"\u001b[39m\u001b[39malert\u001b[39m\u001b[39m\"\u001b[39m]\u001b[39m.\u001b[39mget(\u001b[39m\"\u001b[39m\u001b[39mtext\u001b[39m\u001b[39m\"\u001b[39m)\n\u001b[0;32m    228\u001b[0m     \u001b[39mraise\u001b[39;00m exception_class(message, screen, stacktrace, alert_text)  \u001b[39m# type: ignore[call-arg]  # mypy is not smart enough here\u001b[39;00m\n\u001b[1;32m--> 229\u001b[0m \u001b[39mraise\u001b[39;00m exception_class(message, screen, stacktrace)\n",
      "\u001b[1;31mNoSuchWindowException\u001b[0m: Message: no such window: target window already closed\nfrom unknown error: web view not found\n  (Session info: chrome=122.0.6261.129)\nStacktrace:\n\tGetHandleVerifier [0x00007FF7F5E5AD02+56930]\n\t(No symbol) [0x00007FF7F5DCF602]\n\t(No symbol) [0x00007FF7F5C842E5]\n\t(No symbol) [0x00007FF7F5C61D4C]\n\t(No symbol) [0x00007FF7F5CF23F7]\n\t(No symbol) [0x00007FF7F5D07891]\n\t(No symbol) [0x00007FF7F5CEBA43]\n\t(No symbol) [0x00007FF7F5CBD438]\n\t(No symbol) [0x00007FF7F5CBE4D1]\n\tGetHandleVerifier [0x00007FF7F61D6F8D+3711213]\n\tGetHandleVerifier [0x00007FF7F62304CD+4077101]\n\tGetHandleVerifier [0x00007FF7F622865F+4044735]\n\tGetHandleVerifier [0x00007FF7F5EF9736+706710]\n\t(No symbol) [0x00007FF7F5DDB8DF]\n\t(No symbol) [0x00007FF7F5DD6AC4]\n\t(No symbol) [0x00007FF7F5DD6C1C]\n\t(No symbol) [0x00007FF7F5DC68D4]\n\tBaseThreadInitThunk [0x00007FFFFA4D257D+29]\n\tRtlUserThreadStart [0x00007FFFFB4CAA58+40]\n"
     ]
    }
   ],
   "source": [
    "# Buscar el elemento <label> con la clase y texto específicos (MÁS VENDIDO)\n",
    "promocion_2x1_label = driver.find_element(By.XPATH, '//label[@class=\"lh-copy vtex-rich-text-0-x-paragraph vtex-rich-text-0-x-paragraph--modular-tabs-slider-tab\"]')#and text()=\"2x1\"\n"
   ]
  }
 ],
 "metadata": {
  "kernelspec": {
   "display_name": "Python 3",
   "language": "python",
   "name": "python3"
  },
  "language_info": {
   "codemirror_mode": {
    "name": "ipython",
    "version": 3
   },
   "file_extension": ".py",
   "mimetype": "text/x-python",
   "name": "python",
   "nbconvert_exporter": "python",
   "pygments_lexer": "ipython3",
   "version": "3.11.4"
  }
 },
 "nbformat": 4,
 "nbformat_minor": 2
}
