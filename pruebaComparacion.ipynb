{
 "cells": [
  {
   "cell_type": "code",
   "execution_count": 1,
   "metadata": {},
   "outputs": [
    {
     "name": "stderr",
     "output_type": "stream",
     "text": [
      "c:\\Users\\Josvaldes\\AppData\\Local\\Programs\\Python\\Python311\\Lib\\site-packages\\fuzzywuzzy\\fuzz.py:11: UserWarning: Using slow pure-python SequenceMatcher. Install python-Levenshtein to remove this warning\n",
      "  warnings.warn('Using slow pure-python SequenceMatcher. Install python-Levenshtein to remove this warning')\n"
     ]
    }
   ],
   "source": [
    "import requests\n",
    "from bs4 import BeautifulSoup\n",
    "from fuzzywuzzy import fuzz"
   ]
  },
  {
   "cell_type": "code",
   "execution_count": 3,
   "metadata": {},
   "outputs": [],
   "source": [
    "def obtener_info_selma_digital(nombre_producto):\n",
    "    # URL de Selma Digital\n",
    "    url_selma_digital = f'https://selmadigital.com/shop?search={nombre_producto}'\n",
    "\n",
    "    # Realizar la solicitud HTTP\n",
    "    response_selma_digital = requests.get(url_selma_digital)\n",
    "\n",
    "    # Verificar si la solicitud fue exitosa (código de estado 200)\n",
    "    if response_selma_digital.status_code == 200:\n",
    "        # Parsear el contenido HTML con BeautifulSoup\n",
    "        soup_selma_digital = BeautifulSoup(response_selma_digital.content, 'html.parser')\n",
    "\n",
    "        # Buscar los elementos que contienen el título con la clase \"product-card-design8-vertical__name\"\n",
    "        titles = soup_selma_digital.find_all('div', class_='product-card-design8-vertical__name')\n",
    "\n",
    "        # Buscar los elementos que contienen el precio con la clase \"product-card-design8-vertical__price\"\n",
    "        prices = soup_selma_digital.find_all('div', class_='product-card-design8-vertical__price')\n",
    "\n",
    "        # Crear una lista para almacenar los productos\n",
    "        productos = []\n",
    "\n",
    "        # Iterar sobre los elementos y obtener los títulos y precios\n",
    "        for title, price in zip(titles, prices):\n",
    "            # Obtener el título y el precio y agregarlos a la lista\n",
    "            titulo = title.text.strip()\n",
    "            precio = price.text.strip().replace('$', '').replace(',', '')  # Eliminar caracteres no numéricos del precio\n",
    "            productos.append({'Título': titulo, 'Precio': float(precio)})\n",
    "\n",
    "        return productos\n",
    "\n",
    "    return None"
   ]
  },
  {
   "cell_type": "code",
   "execution_count": 4,
   "metadata": {},
   "outputs": [],
   "source": [
    "def obtener_info_openfarma(nombre_producto):\n",
    "    # URL de Openfarma\n",
    "    url_openfarma = f'https://www.openfarma.com.ar/products?utf8=%E2%9C%93&keywords={nombre_producto}'\n",
    "\n",
    "    # Realizar la solicitud HTTP\n",
    "    response_openfarma = requests.get(url_openfarma)\n",
    "\n",
    "    # Verificar si la solicitud fue exitosa (código de estado 200)\n",
    "    if response_openfarma.status_code == 200:\n",
    "        # Parsear el contenido HTML con BeautifulSoup\n",
    "        soup_openfarma = BeautifulSoup(response_openfarma.content, 'html.parser')\n",
    "\n",
    "        # Buscar los elementos que contienen el título con la clase \"card-title\"\n",
    "        titles = soup_openfarma.find_all('h2', class_='card-title')\n",
    "\n",
    "        # Buscar los elementos que contienen el precio con la clase \"promo\"\n",
    "        prices = soup_openfarma.find_all('span', class_='regular')\n",
    "\n",
    "        # Crear una lista para almacenar los productos\n",
    "        productos = []\n",
    "\n",
    "        # Iterar sobre los elementos y obtener los títulos y precios\n",
    "        for title, price in zip(titles, prices):\n",
    "            # Obtener el título y el precio y agregarlos a la lista\n",
    "            titulo = title.text.strip()\n",
    "            precio = price.text.strip().replace('$', '').replace('.', '').replace(',', '.')  # Formatear el precio\n",
    "            productos.append({'Título': titulo, 'Precio': float(precio)})\n",
    "\n",
    "        return productos\n",
    "\n",
    "    return None"
   ]
  },
  {
   "cell_type": "code",
   "execution_count": 5,
   "metadata": {},
   "outputs": [],
   "source": [
    "def comparar_precios(productos_selma_digital, productos_openfarma):\n",
    "    precios_selma_digital = {producto['Título']: producto['Precio'] for producto in productos_selma_digital}\n",
    "    precios_openfarma = {producto['Título']: producto['Precio'] for producto in productos_openfarma}\n",
    "\n",
    "    for titulo_selma, precio_selma in precios_selma_digital.items():\n",
    "        for titulo_openfarma, precio_openfarma in precios_openfarma.items():\n",
    "            similitud = fuzz.token_sort_ratio(titulo_selma, titulo_openfarma)\n",
    "            if similitud >= 80:  # Umbral de similitud\n",
    "                if precio_selma < precio_openfarma:\n",
    "                    print(f'Selma Digital tiene un precio más bajo para \"{titulo_selma}\": ${precio_selma}')\n",
    "                elif precio_selma > precio_openfarma:\n",
    "                    print(f'Openfarma tiene un precio más bajo para \"{titulo_openfarma}\": ${precio_openfarma}')\n",
    "                else:\n",
    "                    print(f'Ambos tienen el mismo precio para \"{titulo_selma}\": ${precio_selma}')"
   ]
  }
 ],
 "metadata": {
  "kernelspec": {
   "display_name": "Python 3",
   "language": "python",
   "name": "python3"
  },
  "language_info": {
   "codemirror_mode": {
    "name": "ipython",
    "version": 3
   },
   "file_extension": ".py",
   "mimetype": "text/x-python",
   "name": "python",
   "nbconvert_exporter": "python",
   "pygments_lexer": "ipython3",
   "version": "3.11.4"
  }
 },
 "nbformat": 4,
 "nbformat_minor": 2
}
