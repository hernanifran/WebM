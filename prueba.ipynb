{
 "cells": [
  {
   "cell_type": "code",
   "execution_count": 1,
   "metadata": {},
   "outputs": [],
   "source": [
    "from selenium import webdriver\n",
    "from bs4 import BeautifulSoup\n",
    "from selenium.webdriver.common.by import By\n",
    "import requests\n",
    "from lxml import etree"
   ]
  },
  {
   "cell_type": "code",
   "execution_count": 2,
   "metadata": {},
   "outputs": [],
   "source": [
    "def obtener_info_mercadolibre(nombre_producto):\n",
    "    try:\n",
    "        # URL de MercadoLibre para la primera página\n",
    "        url_mercadolibre = f'https://listado.mercadolibre.com.ar/{nombre_producto}_Desde_1_NoIndex_True'\n",
    "\n",
    "        # Configurar el WebDriver (descargar el controlador adecuado para tu navegador)\n",
    "        driver = webdriver.Chrome()\n",
    "\n",
    "        # Realizar la solicitud HTTP con Selenium\n",
    "        driver.get(url_mercadolibre)\n",
    "\n",
    "        # Esperar a que la página cargue completamente (puedes ajustar el tiempo según sea necesario)\n",
    "        driver.implicitly_wait(10)\n",
    "\n",
    "        # Buscar el elemento <label> con la clase y texto específicos (MÁS VENDIDO)\n",
    "        mas_vendido_label = driver.find_element(By.XPATH, '//label[@class=\"ui-search-styled-label ui-search-item__highlight-label__text\" and text()=\"MÁS VENDIDO\"]')\n",
    "\n",
    "        # Obtener el enlace del producto \"MÁS VENDIDO\"\n",
    "        enlace_mas_vendido = mas_vendido_label.find_element(By.XPATH, '../../..//a').get_attribute('href')\n",
    "        titulo_mas_vendido = mas_vendido_label.find_element(By.XPATH, '../../..//h2[@class=\"ui-search-item__title\"]').text.strip()\n",
    "\n",
    "        # Simular el ingreso a la URL del producto \"MÁS VENDIDO\"\n",
    "        driver.get(enlace_mas_vendido)\n",
    "\n",
    "        # Buscar el enlace a la página de \"Más Vendidos\" en la página del producto \"MÁS VENDIDO\"\n",
    "        enlace_mas_vendidos = driver.find_element(By.XPATH, '//a[@class=\"ui-pdp-promotions-pill-label__target\"]').get_attribute('href')\n",
    "\n",
    "        # Simular el ingreso a la página de \"Más Vendidos\"\n",
    "        driver.get(enlace_mas_vendidos)\n",
    "        \n",
    "        # Buscar todos los elementos <a> que contienen información sobre productos más vendidos\n",
    "        elementos_mas_vendidos = driver.find_elements(By.XPATH, '//a[@class=\"ui-recommendations-card ui-recommendations-card--vertical __item\"]')\n",
    "        \n",
    "        # Crear una lista para almacenar los títulos y enlaces de los productos más vendidos\n",
    "        productos_mas_vendidos = []\n",
    "        \n",
    "        # Iterar sobre los elementos más vendidos y obtener títulos y enlaces\n",
    "        for elemento in elementos_mas_vendidos:\n",
    "            titulo_mas_vendido = elemento.text.strip()\n",
    "            enlace_mas_vendido = elemento.get_attribute('href')\n",
    "\n",
    "            #precio_mas_vendido = elemento.find_element(By.XPATH, './div[@class=\"ui-search-result__content-columns\"]/div[@class=\"ui-search-result__content-column ui-search-result__content-column--left\"]/div[1]/div//div[@class=\"ui-search-price__second-line\"]//span[@class=\"price-tag-amount\"]/span[2]').text\n",
    "            #precio_mas_vendido = elemento.find_element(By.XPATH, 'ui-recommendations-card__price-and-discount .andes-money-amount__fraction').text\n",
    "            # La obtención del precio puede variar, dependiendo de la estructura HTML específica\n",
    "          \n",
    "            precio_mas_vendido = soup_mercadolibre.find_all('span', class_='andes-money-amount__fraction')\n",
    "            \n",
    "            #driver.find_element(By.CSS_SELECTOR, 'span.price-tag-fraction').text\n",
    "            \n",
    "\n",
    "            \n",
    "            productos_mas_vendidos.append({'Título': titulo_mas_vendido, 'Enlace': enlace_mas_vendido, 'Precio': precio_mas_vendido})\n",
    "        \n",
    "        return {'Título Más Vendido': titulo_mas_vendido, 'Enlace Más Vendido': enlace_mas_vendido, 'Enlace Más Vendidos': enlace_mas_vendidos, 'Productos Más Vendidos': productos_mas_vendidos}\n",
    "        \n",
    "    except Exception as e:\n",
    "        print(f'Error: {e}')\n",
    "        return None\n",
    "\n",
    "    finally:\n",
    "        # Cerrar el navegador al finalizar\n",
    "        driver.quit()"
   ]
  },
  {
   "cell_type": "code",
   "execution_count": 4,
   "metadata": {},
   "outputs": [
    {
     "name": "stdout",
     "output_type": "stream",
     "text": [
      "Título del producto \"MÁS VENDIDO\" en MercadoLibre para jarabe: Gomitas Mogul Rollo Frutas 35 Gr Caja X 12 Unidades\n",
      "Enlace del producto \"MÁS VENDIDO\": https://www.mercadolibre.com.ar/gomitas-mogul-rollo-frutas-35-gr-caja-x-12-unidades/p/MLA20719183#wid=MLA1367383978&sid=search&searchVariation=MLA20719183&position=17&search_layout=stack&type=product&tracking_id=87378c7d-9c56-4e6b-8b5f-7032c827c7c8\n",
      "Enlace a la página \"Más Vendidos\" en la página del producto: https://www.mercadolibre.com.ar/mas-vendidos/MLA114011?new_bestseller_landing=true#origin=pdp\n",
      "\n",
      "Productos Más Vendidos:\n"
     ]
    }
   ],
   "source": [
    "# Nombre del producto a buscar\n",
    "nombre_producto = 'jarabe'\n",
    "\n",
    "# Obtener e imprimir el título, enlaces del producto \"MÁS VENDIDO\" y lista de productos más vendidos\n",
    "info_mas_vendido = obtener_info_mercadolibre(nombre_producto)\n",
    "if info_mas_vendido:\n",
    "    print(f'Título del producto \"MÁS VENDIDO\" en MercadoLibre para {nombre_producto}: {info_mas_vendido[\"Título Más Vendido\"]}')\n",
    "    print(f'Enlace del producto \"MÁS VENDIDO\": {info_mas_vendido[\"Enlace Más Vendido\"]}')\n",
    "    print(f'Enlace a la página \"Más Vendidos\" en la página del producto: {info_mas_vendido[\"Enlace Más Vendidos\"]}')\n",
    "    \n",
    "    print('\\nProductos Más Vendidos:') \n",
    "    for idx, producto_mas_vendido in enumerate(info_mas_vendido['Productos Más Vendidos'], start=1):\n",
    "        print(f'#{idx} - Título: {producto_mas_vendido[\"Título\"]}, Enlace: {producto_mas_vendido[\"Enlace\"]}, Precio: {producto_mas_vendido[\"Precio\"]}')\n",
    "        #print(f'#{idx} - Título: {producto_mas_vendido[\"Título\"]}, Enlace: {producto_mas_vendido[\"Enlace\"]}')\n",
    "else:\n",
    "    print(f'No se encontró el producto \"MÁS VENDIDO\" en MercadoLibre para {nombre_producto}.')"
   ]
  }
 ],
 "metadata": {
  "kernelspec": {
   "display_name": "Python 3",
   "language": "python",
   "name": "python3"
  },
  "language_info": {
   "codemirror_mode": {
    "name": "ipython",
    "version": 3
   },
   "file_extension": ".py",
   "mimetype": "text/x-python",
   "name": "python",
   "nbconvert_exporter": "python",
   "pygments_lexer": "ipython3",
   "version": "3.11.4"
  }
 },
 "nbformat": 4,
 "nbformat_minor": 2
}
